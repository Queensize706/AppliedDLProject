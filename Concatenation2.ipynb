{
  "nbformat": 4,
  "nbformat_minor": 0,
  "metadata": {
    "colab": {
      "name": "Concatenation2.ipynb",
      "provenance": [],
      "collapsed_sections": [],
      "toc_visible": true
    },
    "kernelspec": {
      "name": "python3",
      "display_name": "Python 3"
    },
    "accelerator": "GPU"
  },
  "cells": [
    {
      "cell_type": "code",
      "metadata": {
        "id": "5f9K14ORILi8",
        "colab_type": "code",
        "outputId": "e2a7df1b-1492-4fb1-c294-79777ba6306e",
        "colab": {
          "base_uri": "https://localhost:8080/",
          "height": 34
        }
      },
      "source": [
        "import numpy as np\n",
        "\n",
        "try:\n",
        "  # %tensorflow_version only exists in Colab.\n",
        "  %tensorflow_version 2.x\n",
        "except Exception:\n",
        "  pass\n",
        "  \n",
        "import tensorflow as tf\n",
        "\n"
      ],
      "execution_count": 0,
      "outputs": [
        {
          "output_type": "stream",
          "text": [
            "TensorFlow 2.x selected.\n"
          ],
          "name": "stdout"
        }
      ]
    },
    {
      "cell_type": "code",
      "metadata": {
        "id": "0mrECvjjspNe",
        "colab_type": "code",
        "outputId": "814b2804-fe50-4fe8-cf78-3129e3d97e5c",
        "colab": {
          "base_uri": "https://localhost:8080/",
          "height": 224
        }
      },
      "source": [
        "# Install the OpenSlide C library and Python bindings\n",
        "!apt-get install openslide-tools\n",
        "!pip install openslide-python"
      ],
      "execution_count": 0,
      "outputs": [
        {
          "output_type": "stream",
          "text": [
            "Reading package lists... Done\n",
            "Building dependency tree       \n",
            "Reading state information... Done\n",
            "openslide-tools is already the newest version (3.4.1+dfsg-2).\n",
            "The following package was automatically installed and is no longer required:\n",
            "  libnvidia-common-430\n",
            "Use 'apt autoremove' to remove it.\n",
            "0 upgraded, 0 newly installed, 0 to remove and 7 not upgraded.\n",
            "Requirement already satisfied: openslide-python in /usr/local/lib/python3.6/dist-packages (1.1.1)\n",
            "Requirement already satisfied: Pillow in /usr/local/lib/python3.6/dist-packages (from openslide-python) (4.3.0)\n",
            "Requirement already satisfied: olefile in /usr/local/lib/python3.6/dist-packages (from Pillow->openslide-python) (0.46)\n"
          ],
          "name": "stdout"
        }
      ]
    },
    {
      "cell_type": "code",
      "metadata": {
        "id": "adM5wye_er40",
        "colab_type": "code",
        "outputId": "70268587-f039-4a11-dce6-c85e8d622645",
        "colab": {
          "base_uri": "https://localhost:8080/",
          "height": 54
        }
      },
      "source": [
        "from google.colab import drive\n",
        "import os\n",
        "import json\n",
        "\n",
        "drive.mount('/content/drive')\n",
        "PATH = '/content/drive/My Drive/DL/pool/'"
      ],
      "execution_count": 0,
      "outputs": [
        {
          "output_type": "stream",
          "text": [
            "Drive already mounted at /content/drive; to attempt to forcibly remount, call drive.mount(\"/content/drive\", force_remount=True).\n"
          ],
          "name": "stdout"
        }
      ]
    },
    {
      "cell_type": "markdown",
      "metadata": {
        "id": "8nay8dOMnArg",
        "colab_type": "text"
      },
      "source": [
        "# Data generator"
      ]
    },
    {
      "cell_type": "code",
      "metadata": {
        "id": "DzfhZdSfmYzh",
        "colab_type": "code",
        "colab": {}
      },
      "source": [
        "import glob\n",
        "import numpy as np\n",
        "ind_mask = np.load(PATH + 'mask_all.npy')\n",
        "ind_slide = np.load(PATH + 'slide_all.npy')"
      ],
      "execution_count": 0,
      "outputs": []
    },
    {
      "cell_type": "code",
      "metadata": {
        "id": "zyMX9Cynslig",
        "colab_type": "code",
        "colab": {}
      },
      "source": [
        "%matplotlib inline\n",
        "import matplotlib.pyplot as plt\n",
        "import numpy as np\n",
        "from openslide import open_slide, __library_version__ as openslide_version\n",
        "import os\n",
        "from PIL import Image\n",
        "from skimage.color import rgb2gray\n",
        "\n",
        "# See https://openslide.org/api/python/#openslide.OpenSlide.read_region\n",
        "# Note: x,y coords are with respect to level 0.\n",
        "# There is an example below of working with coordinates\n",
        "# with respect to a higher zoom level.\n",
        "\n",
        "# Read a region from the slide\n",
        "# Return a numpy RBG array\n",
        "def read_slide(slide, x, y, level, width, height, as_float=False):\n",
        "    im = slide.read_region((x,y), level, (width, height))\n",
        "    im = im.convert('RGB') # drop the alpha channel\n",
        "    if as_float:\n",
        "        im = np.asarray(im, dtype=np.float32)\n",
        "    else:\n",
        "        im = np.asarray(im)\n",
        "    assert im.shape == (height, width, 3)\n",
        "    return im\n",
        "\n",
        "def get_multi_level_imgs(slide_name, levels=[0, 1, 3], width=128, height=128, x=0, y=0):\n",
        "    \"\"\"\n",
        "    Given a slide or tumor mask, output multiple level images with the same shape (height and width).\n",
        "    These images belong to multiple zoom levels, which is specified by the parameter levels, but with the same center point w.r.t. the whole slide.\n",
        "    :param slide: A openslide.OpenSlide instance \n",
        "    :param levels: A list, specifying the zoom levels of which the users want to get the corresponding image. eg. [0, 1, 2], [0, 1, 3, 5] ...\n",
        "    :param width, height: the expected width and height of each image to output \n",
        "    :param x, y: giving the top left pixel w.r.t. the biggest zoom level (i.e. the coarsest level) that the user specifies\n",
        "    :return: a list of images corresponding to the different zoom levels that the user specified (from the finest to the coarsest)\n",
        "    \"\"\"\n",
        "    x = int(x)\n",
        "    y = int(y)\n",
        "    slide_path = 'tumor_'+ slide_name +'.tif'\n",
        "\n",
        "    slide = open_slide(slide_path)\n",
        "    \n",
        "    assert len(levels)>0\n",
        "    levels.sort()\n",
        "    finest = levels[0]\n",
        "    coarsest = levels[-1]\n",
        "    assert 0 <= x <= slide.level_dimensions[coarsest][0] - width\n",
        "    assert 0 <= y <= slide.level_dimensions[coarsest][1] - height\n",
        "\n",
        "    result_imgs = []\n",
        "    for level in levels:\n",
        "        x_temp = x*2**(coarsest-level) + (width*2**(coarsest-level) - width)/2\n",
        "        y_temp = y*2**(coarsest-level) + (height*2**(coarsest-level) - height)/2\n",
        "\n",
        "        img = read_slide(slide=slide, x=int(x_temp*2**level), y=int(y_temp*2**level), level=level, width=width, height=height)\n",
        "        result_imgs.append(img)\n",
        "    \n",
        "    return np.concatenate((result_imgs[0], result_imgs[1], result_imgs[2]), axis=2)\n",
        "\n"
      ],
      "execution_count": 0,
      "outputs": []
    },
    {
      "cell_type": "code",
      "metadata": {
        "id": "EIdDhol3mtnO",
        "colab_type": "code",
        "outputId": "19e94c31-7fe7-4bd2-afe7-ce79416e7e3b",
        "colab": {
          "base_uri": "https://localhost:8080/",
          "height": 119
        }
      },
      "source": [
        "print(len(ind_mask))\n",
        "print(ind_mask[:5])\n",
        "print(len(ind_slide))\n",
        "print(ind_slide[:5])\n",
        "X_slide = np.concatenate((ind_slide, ind_mask), axis=0)\n",
        "print('len(X_slide): ', len(X_slide))"
      ],
      "execution_count": 0,
      "outputs": [
        {
          "output_type": "stream",
          "text": [
            "114161\n",
            "['001_8672_16736' '001_8672_16752' '001_8688_15568' '001_8688_15584'\n",
            " '001_8688_15712']\n",
            "2369154\n",
            "['001_0_0' '001_0_16' '001_0_32' '001_0_48' '001_0_64']\n",
            "len(X_slide):  2483315\n"
          ],
          "name": "stdout"
        }
      ]
    },
    {
      "cell_type": "code",
      "metadata": {
        "id": "cP8dWj5_m9Nf",
        "colab_type": "code",
        "outputId": "5a9fe68e-9a8b-4d45-b868-9ebd4f182bc1",
        "colab": {
          "base_uri": "https://localhost:8080/",
          "height": 68
        }
      },
      "source": [
        "import sklearn\n",
        "from sklearn.model_selection import train_test_split\n",
        "\n",
        "train, val = train_test_split(X_slide, random_state=42)\n",
        "print('Length of training set: ',len(train))\n",
        "train[0:5]"
      ],
      "execution_count": 0,
      "outputs": [
        {
          "output_type": "stream",
          "text": [
            "Length of training set:  1862486\n"
          ],
          "name": "stdout"
        },
        {
          "output_type": "execute_result",
          "data": {
            "text/plain": [
              "array(['110_9184_4816', '019_5872_26976', '001_1424_10944',\n",
              "       '031_8016_20496', '091_1968_4336'], dtype='<U32')"
            ]
          },
          "metadata": {
            "tags": []
          },
          "execution_count": 7
        }
      ]
    },
    {
      "cell_type": "code",
      "metadata": {
        "id": "uEpFSmzooKF5",
        "colab_type": "code",
        "outputId": "5bbc7de4-7dce-4726-d696-6c879f34e4ff",
        "colab": {
          "base_uri": "https://localhost:8080/",
          "height": 34
        }
      },
      "source": [
        "partition = {'train': train, 'validation': val}\n",
        "\n",
        "labels = {}\n",
        "\n",
        "for i in ind_mask:\n",
        "    labels[i] = 1\n",
        "for i in ind_slide:\n",
        "    labels[i] = 0\n",
        "\n",
        "assert len(labels) == len(ind_mask) + len(ind_slide)\n",
        "\n",
        "print('label obtained successfully!')"
      ],
      "execution_count": 0,
      "outputs": [
        {
          "output_type": "stream",
          "text": [
            "label obtained successfully!\n"
          ],
          "name": "stdout"
        }
      ]
    },
    {
      "cell_type": "code",
      "metadata": {
        "id": "0nGr7W-Ir2JY",
        "colab_type": "code",
        "outputId": "0748b355-a5f8-4121-8531-0fc46c637c24",
        "colab": {
          "base_uri": "https://localhost:8080/",
          "height": 85
        }
      },
      "source": [
        "neg = 0\n",
        "neg_train = []\n",
        "pos = 0\n",
        "pos_train = []\n",
        "\n",
        "for i in train:\n",
        "  if labels[i] == 1:\n",
        "    pos += 1\n",
        "    pos_train.append(i)\n",
        "  elif labels[i] == 0:\n",
        "    neg += 1\n",
        "    neg_train.append(i)\n",
        "  else:\n",
        "    print('Error')\n",
        "\n",
        "\n",
        "total = neg + pos\n",
        "print('Training Examples:\\n    Total: {}\\n    Positive: {} ({:.2f}% of total)\\n'.format(\n",
        "    total, pos, 100 * pos / total))"
      ],
      "execution_count": 0,
      "outputs": [
        {
          "output_type": "stream",
          "text": [
            "Training Examples:\n",
            "    Total: 1862486\n",
            "    Positive: 85592 (4.60% of total)\n",
            "\n"
          ],
          "name": "stdout"
        }
      ]
    },
    {
      "cell_type": "code",
      "metadata": {
        "id": "41qMjvJKr7OF",
        "colab_type": "code",
        "outputId": "36642f9a-35b3-4105-9ed3-fc3cd855c06e",
        "colab": {
          "base_uri": "https://localhost:8080/",
          "height": 85
        }
      },
      "source": [
        "neg = 0\n",
        "neg_val = []\n",
        "pos = 0\n",
        "pos_val = []\n",
        "\n",
        "for i in val:\n",
        "  if labels[i] == 1:\n",
        "    pos += 1\n",
        "    pos_val.append(i)\n",
        "  elif labels[i] == 0:\n",
        "    neg += 1\n",
        "    neg_val.append(i)\n",
        "  else:\n",
        "    print('Error')\n",
        "\n",
        "\n",
        "total = neg + pos\n",
        "print('Validation Examples:\\n    Total: {}\\n    Positive: {} ({:.2f}% of total)\\n'.format(\n",
        "    total, pos, 100 * pos / total))"
      ],
      "execution_count": 0,
      "outputs": [
        {
          "output_type": "stream",
          "text": [
            "Validation Examples:\n",
            "    Total: 620829\n",
            "    Positive: 28569 (4.60% of total)\n",
            "\n"
          ],
          "name": "stdout"
        }
      ]
    },
    {
      "cell_type": "code",
      "metadata": {
        "id": "8yOlox9mEZ2S",
        "colab_type": "code",
        "colab": {}
      },
      "source": [
        "# file_index_list = ['001', '002', '005', '012', '016', '019', '023', '031', '035', '057', '059', '064', '091', '096', '101', '110']\n",
        "file_index_list = ['001']\n",
        "for im_name in file_index_list:\n",
        "\n",
        "  slide_path = 'tumor_'+ im_name +'.tif' # only this file is available\n",
        "  tumor_mask_path = 'tumor_'+ im_name +'_mask.tif' # only this file is available\n",
        "\n",
        "\n",
        "  slide_url = \"https://storage.googleapis.com/dl4cv1445/ADL/tumor_\"+ im_name +\".tif\"\n",
        "  mask_url = \"https://storage.googleapis.com/dl4cv1445/ADL/tumor_\" + im_name + \"_mask.tif\"\n",
        "\n",
        "  # Download the whole slide image\n",
        "  if not os.path.exists(slide_path):\n",
        "    !curl -O $slide_url\n",
        "\n",
        "  # Download the tumor mask\n",
        "  if not os.path.exists(tumor_mask_path):\n",
        "    !curl -O $mask_url"
      ],
      "execution_count": 0,
      "outputs": []
    },
    {
      "cell_type": "code",
      "metadata": {
        "id": "C8kEkgxir-pi",
        "colab_type": "code",
        "outputId": "6253761f-e24d-4e11-86c6-f750814b8890",
        "colab": {
          "base_uri": "https://localhost:8080/",
          "height": 221
        }
      },
      "source": [
        "slide = open_slide(slide_path)\n",
        "print (\"Read WSI from %s with width: %d, height: %d\" % (slide_path, \n",
        "                                                        slide.level_dimensions[0][0], \n",
        "                                                        slide.level_dimensions[0][1]))\n",
        "\n",
        "tumor_mask = open_slide(tumor_mask_path)\n",
        "print (\"Read tumor mask from %s\" % (tumor_mask_path))\n",
        "\n",
        "max_level = min(slide.level_dimensions, tumor_mask.level_dimensions)\n",
        "\n",
        "print(\"Slide includes %d levels\", len(slide.level_dimensions))\n",
        "for i in range(len(max_level)):\n",
        "    print(\"Level %d, dimensions: %s downsample factor %d\" % (i, \n",
        "                                                            slide.level_dimensions[i], \n",
        "                                                            slide.level_downsamples[i]))\n",
        "    assert tumor_mask.level_dimensions[i][0] == slide.level_dimensions[i][0]\n",
        "    assert tumor_mask.level_dimensions[i][1] == slide.level_dimensions[i][1]\n",
        "\n",
        "# Verify downsampling works as expected\n",
        "width, height = slide.level_dimensions[7]\n",
        "assert width * slide.level_downsamples[7] == slide.level_dimensions[0][0]\n",
        "assert height * slide.level_downsamples[7] == slide.level_dimensions[0][1]"
      ],
      "execution_count": 0,
      "outputs": [
        {
          "output_type": "stream",
          "text": [
            "Read WSI from tumor_001.tif with width: 97792, height: 221184\n",
            "Read tumor mask from tumor_001_mask.tif\n",
            "Slide includes %d levels 10\n",
            "Level 0, dimensions: (97792, 221184) downsample factor 1\n",
            "Level 1, dimensions: (48896, 110592) downsample factor 2\n",
            "Level 2, dimensions: (24448, 55296) downsample factor 4\n",
            "Level 3, dimensions: (12224, 27648) downsample factor 8\n",
            "Level 4, dimensions: (6112, 13824) downsample factor 16\n",
            "Level 5, dimensions: (3056, 6912) downsample factor 32\n",
            "Level 6, dimensions: (1528, 3456) downsample factor 64\n",
            "Level 7, dimensions: (764, 1728) downsample factor 128\n",
            "Level 8, dimensions: (382, 864) downsample factor 256\n"
          ],
          "name": "stdout"
        }
      ]
    },
    {
      "cell_type": "markdown",
      "metadata": {
        "id": "BgiJj3hes7qk",
        "colab_type": "text"
      },
      "source": [
        "Sanity check: "
      ]
    },
    {
      "cell_type": "code",
      "metadata": {
        "id": "2s3R28aps61y",
        "colab_type": "code",
        "outputId": "ffedcc92-9c66-4283-a1a7-42321fbc4ff1",
        "colab": {
          "base_uri": "https://localhost:8080/",
          "height": 195
        }
      },
      "source": [
        "im_013 = get_multi_level_imgs('001', levels=[0, 1, 3], width=128, height=128, x=6000, y=4000)\n",
        "# x: x_axis in level3 \n",
        "# y: y_axis in level3\n",
        "\n",
        "fig, axes = plt.subplots(1, 3, figsize=(10, 10*3))\n",
        "\n",
        "for i in range(3):\n",
        "  axes[i].imshow(im_013[..., i*3: (i+1)*3])\n",
        "  axes[i].axis('off')"
      ],
      "execution_count": 0,
      "outputs": [
        {
          "output_type": "display_data",
          "data": {
            "image/png": "[encoded data removed]",
            "text/plain": [
              "<Figure size 720x2160 with 3 Axes>"
            ]
          },
          "metadata": {
            "tags": []
          }
        }
      ]
    },
    {
      "cell_type": "markdown",
      "metadata": {
        "id": "9Dz--E5_tT3c",
        "colab_type": "text"
      },
      "source": [
        "Create data generator"
      ]
    },
    {
      "cell_type": "code",
      "metadata": {
        "id": "MEI_UqZgtTR9",
        "colab_type": "code",
        "colab": {}
      },
      "source": [
        "import random\n",
        "from random import shuffle\n",
        "from numpy import asarray\n",
        "class DataGenerator(tf.keras.utils.Sequence):\n",
        "    'Generates data for Keras'\n",
        "    def __init__(self, dt_type, labels, batch_size=32, dim=(128,128), n_channels=3,\n",
        "                 n_classes=2, shuffle=True):\n",
        "        'Initialization'\n",
        "        self.dim = dim\n",
        "        self.batch_size = batch_size\n",
        "        self.labels = labels\n",
        "        self.dt_type = dt_type\n",
        "        self.n_channels = n_channels\n",
        "        self.n_classes = n_classes\n",
        "        self.shuffle = shuffle\n",
        "        self.on_epoch_end()\n",
        "\n",
        "    def __len__(self):\n",
        "        'Denotes the number of batches per epoch'\n",
        "        return int(np.floor(20000/ self.batch_size))\n",
        "\n",
        "    def __getitem__(self, index):\n",
        "        'Generate one batch of data'\n",
        "        if self.dt_type == 'train':\n",
        "            # Generate data\n",
        "            IDs = []\n",
        "            for i in range(self.batch_size//2):\n",
        "              IDs.append(random.choice(pos_train))\n",
        "              IDs.append(random.choice(neg_train))\n",
        "            shuffle(IDs)\n",
        "        elif self.dt_type == 'validation':\n",
        "            IDs = []\n",
        "            for i in range(self.batch_size//2):\n",
        "              IDs.append(random.choice(pos_val))\n",
        "              IDs.append(random.choice(neg_val))\n",
        "            shuffle(IDs)\n",
        "\n",
        "        # Generate data\n",
        "        X, y = self.__data_generation(IDs)\n",
        "\n",
        "        return X, y\n",
        "\n",
        "    def on_epoch_end(self):\n",
        "        'Updates indexes after each epoch'\n",
        "        # self.indexes = np.arange(len(self.list_IDs))\n",
        "        # if self.shuffle == True:\n",
        "        #     np.random.shuffle(self.indexes)\n",
        "        gc.collect()\n",
        "\n",
        "    def __data_generation(self, IDs):\n",
        "        'Generates data containing batch_size samples' # X : (n_samples, *dim, n_channels)\n",
        "        # Initialization\n",
        "        channels = 1\n",
        "        X = np.empty((self.batch_size, *self.dim, self.n_channels*3))\n",
        "        y = np.empty((self.batch_size), dtype=int)\n",
        "        \n",
        "\n",
        "        for i, ID in enumerate(IDs):\n",
        "            # print(\"ID: \", ID)\n",
        "            # Store sample\n",
        "            slide_name = ID.split('_')[0]\n",
        "            X[i,] = get_multi_level_imgs(slide_name, levels=[0, 1, 3], width=128, height=128, x=ID.split('_')[1], y=ID.split('_')[2])\n",
        "            # convert image to numpy array\n",
        "            X[i,] = asarray(X[i,])\n",
        "            # if self.dt_type == 'train':\n",
        "            #     # Data augmentation\n",
        "            #     ro = random.randint(1, 5)\n",
        "            #     if ro == 1:\n",
        "            #       X[i,] = np.rot90(X[i,])\n",
        "            #     if ro == 2:\n",
        "            #       X[i,] = np.fliplr(X[i,])\n",
        "            #     if ro == 3:\n",
        "            #       X[i,] = np.flipud(X[i,])\n",
        "            #     if ro == 4:\n",
        "            #       X[i,] = np.rot90(X[i,], 2)\n",
        "\n",
        "            X[i,] /= 255.0\n",
        "\n",
        "            # Store class\n",
        "            y[i] = self.labels[ID]\n",
        "        return X, y"
      ],
      "execution_count": 0,
      "outputs": []
    },
    {
      "cell_type": "code",
      "metadata": {
        "id": "8lvugzYEtqQp",
        "colab_type": "code",
        "outputId": "9b2aaeee-e6a9-4d70-8065-cd17861be540",
        "colab": {
          "base_uri": "https://localhost:8080/",
          "height": 34
        }
      },
      "source": [
        "import numpy as np\n",
        "import gc\n",
        "\n",
        "from keras.models import Sequential\n",
        "# from my_classes import DataGenerator\n",
        "\n",
        "# Parameters\n",
        "params = {'dim': (128,128),\n",
        "          'batch_size': 32,\n",
        "          'n_classes': 2,\n",
        "          'n_channels': 3,\n",
        "          'shuffle': True}\n",
        "\n",
        "\n",
        "# Generators\n",
        "training_generator = DataGenerator('train', labels, **params)\n",
        "validation_generator = DataGenerator('validation', labels, **params)\n",
        "\n"
      ],
      "execution_count": 0,
      "outputs": [
        {
          "output_type": "stream",
          "text": [
            "Using TensorFlow backend.\n"
          ],
          "name": "stderr"
        }
      ]
    },
    {
      "cell_type": "markdown",
      "metadata": {
        "id": "YG8mYfZIPrGL",
        "colab_type": "text"
      },
      "source": [
        "# Level 3"
      ]
    },
    {
      "cell_type": "markdown",
      "metadata": {
        "id": "hxLnj_8keomF",
        "colab_type": "text"
      },
      "source": [
        "## Define model"
      ]
    },
    {
      "cell_type": "code",
      "metadata": {
        "id": "_dho6N3WLzBF",
        "colab_type": "code",
        "colab": {}
      },
      "source": [
        "import tensorflow_datasets as tfds\n",
        "tfds.disable_progress_bar()\n",
        "\n",
        "from IPython.display import clear_output\n",
        "import matplotlib.pyplot as plt\n",
        "\n",
        "conv_base = tf.keras.applications.DenseNet201(weights='imagenet',\n",
        "                    include_top=False,\n",
        "                    input_shape=(128, 128, 3))\n",
        "\n",
        "base_model = conv_base"
      ],
      "execution_count": 0,
      "outputs": []
    },
    {
      "cell_type": "code",
      "metadata": {
        "id": "HDZHOvd7CubN",
        "colab_type": "code",
        "colab": {}
      },
      "source": [
        "from __future__ import absolute_import, division, print_function, unicode_literals\n",
        "import keras.backend as K\n",
        "\n",
        "\n",
        "global_average_layer = tf.keras.layers.GlobalAveragePooling2D()\n",
        "prediction_layer = tf.keras.layers.Dense(1, activation='sigmoid')\n",
        "# build a new model reusing the pretrained base\n",
        "model3 = tf.keras.Sequential([\n",
        "  base_model,\n",
        "  tf.keras.layers.Conv2D(256, (1,1), activation='relu'),\n",
        "  tf.keras.layers.Flatten(input_shape=(4,4,512)), \n",
        "  tf.keras.layers.Dense(\n",
        "          64, activation='relu',\n",
        "          input_shape=(4, 4, 512),\n",
        "          kernel_initializer=tf.keras.initializers.he_normal(),\n",
        "          bias_initializer='zeros'),\n",
        "  # tf.keras.layers.Dropout(0.5),\n",
        "  tf.keras.layers.Dense(\n",
        "          16, activation='relu',\n",
        "          kernel_initializer=tf.keras.initializers.he_normal(),\n",
        "          bias_initializer='zeros'),\n",
        "  tf.keras.layers.Dense(1, activation='sigmoid')\n",
        "])\n",
        "\n"
      ],
      "execution_count": 0,
      "outputs": []
    },
    {
      "cell_type": "code",
      "metadata": {
        "id": "B6zfHB4VN6fp",
        "colab_type": "code",
        "colab": {}
      },
      "source": [
        "# rmsprop = RMSprop(lr=0.1)\n",
        "# adam = tf.keras.optimizers.Adam(lr=0.01)\n",
        "sgd = tf.keras.optimizers.SGD(learning_rate=1e-7, momentum=0.9)\n",
        "def loss_fn(y_true, y_pred):\n",
        "  loss = tf.keras.losses.binary_crossentropy(y_true, y_pred, from_logits=True)\n",
        "  return loss\n",
        "\n",
        "model3.compile(optimizer=sgd, loss=loss_fn,\n",
        "              metrics=['accuracy'])\n",
        "\n",
        "# tf.keras.utils.plot_model(model3, show_shapes=True)"
      ],
      "execution_count": 0,
      "outputs": []
    },
    {
      "cell_type": "markdown",
      "metadata": {
        "id": "gp4RbeDsKhG-",
        "colab_type": "text"
      },
      "source": [
        "## Load model"
      ]
    },
    {
      "cell_type": "code",
      "metadata": {
        "id": "a4DbZk_6hT1q",
        "colab_type": "code",
        "colab": {}
      },
      "source": [
        "import os\n",
        "checkpoint_path = 'model_tumor_level3.h5' # only this file is available\n",
        "\n",
        "\n",
        "checkpoint_url = \"https://storage.googleapis.com/dl4cv1445/ADL/model_tumor_level3.h5\"\n",
        "\n",
        "# Download the whole slide image\n",
        "if not os.path.exists(checkpoint_path):\n",
        "  !curl -O $checkpoint_url"
      ],
      "execution_count": 0,
      "outputs": []
    },
    {
      "cell_type": "code",
      "metadata": {
        "id": "KPUuO2D8K0NV",
        "colab_type": "code",
        "colab": {}
      },
      "source": [
        "model3.load_weights('model_tumor_level3.h5')"
      ],
      "execution_count": 0,
      "outputs": []
    },
    {
      "cell_type": "code",
      "metadata": {
        "id": "zZ6T1mtImeqL",
        "colab_type": "code",
        "colab": {}
      },
      "source": [
        "# model3.save(PATH+'model_tumor_level3.h5')"
      ],
      "execution_count": 0,
      "outputs": []
    },
    {
      "cell_type": "code",
      "metadata": {
        "id": "Za2rF-HBmGrY",
        "colab_type": "code",
        "colab": {}
      },
      "source": [
        "desired_layer3 = model3.get_layer('dense_2').output\n",
        "\n",
        "# Create the feature extraction model\n",
        "desired3 = tf.keras.Model(inputs=model3.input, outputs=desired_layer3)"
      ],
      "execution_count": 0,
      "outputs": []
    },
    {
      "cell_type": "markdown",
      "metadata": {
        "colab_type": "text",
        "id": "5bMuo_hurWyy"
      },
      "source": [
        "# Level 1"
      ]
    },
    {
      "cell_type": "markdown",
      "metadata": {
        "colab_type": "text",
        "id": "MCFnH6qarWy7"
      },
      "source": [
        "## Define model"
      ]
    },
    {
      "cell_type": "code",
      "metadata": {
        "colab_type": "code",
        "id": "kqMaNhA8rWzB",
        "colab": {}
      },
      "source": [
        "\n",
        "import tensorflow_datasets as tfds\n",
        "tfds.disable_progress_bar()\n",
        "\n",
        "from IPython.display import clear_output\n",
        "import matplotlib.pyplot as plt\n",
        "\n",
        "conv_base = tf.keras.applications.DenseNet201(weights='imagenet',\n",
        "                    include_top=False,\n",
        "                    input_shape=(128, 128, 3))\n",
        "\n",
        "base_model = conv_base"
      ],
      "execution_count": 0,
      "outputs": []
    },
    {
      "cell_type": "code",
      "metadata": {
        "colab_type": "code",
        "id": "ii2vu4EArWzI",
        "colab": {}
      },
      "source": [
        "from __future__ import absolute_import, division, print_function, unicode_literals\n",
        "import keras.backend as K\n",
        "\n",
        "\n",
        "global_average_layer = tf.keras.layers.GlobalAveragePooling2D()\n",
        "prediction_layer = tf.keras.layers.Dense(1, activation='sigmoid')\n",
        "# build a new model reusing the pretrained base\n",
        "model1 = tf.keras.Sequential([\n",
        "  base_model,\n",
        "  tf.keras.layers.Conv2D(256, (1,1), activation='elu'),\n",
        "  tf.keras.layers.Flatten(input_shape=(4,4,512)),\n",
        "  tf.keras.layers.Dense(\n",
        "          128, activation='elu',\n",
        "          input_shape=(4, 4, 512),\n",
        "          kernel_initializer=tf.keras.initializers.he_normal(),\n",
        "          bias_initializer='zeros'),\n",
        "  tf.keras.layers.Dense(\n",
        "          64, activation='elu',\n",
        "          kernel_initializer=tf.keras.initializers.he_normal(),\n",
        "          bias_initializer='zeros'),\n",
        "  # tf.keras.layers.Dropout(0.5),\n",
        "  tf.keras.layers.Dense(\n",
        "          16, activation='elu',\n",
        "          kernel_initializer=tf.keras.initializers.he_normal(),\n",
        "          bias_initializer='zeros'),\n",
        "  tf.keras.layers.Dense(1, activation='sigmoid')\n",
        "])\n",
        "\n"
      ],
      "execution_count": 0,
      "outputs": []
    },
    {
      "cell_type": "code",
      "metadata": {
        "colab_type": "code",
        "id": "X-M3SG-2rWzN",
        "colab": {}
      },
      "source": [
        "sgd = tf.keras.optimizers.SGD(learning_rate=0.001, momentum=0.9)\n",
        "def loss_fn(y_true, y_pred):\n",
        "  loss = tf.keras.losses.binary_crossentropy(y_true, y_pred, from_logits=True)\n",
        "  return loss\n",
        "\n",
        "model1.compile(optimizer=sgd, loss=loss_fn,\n",
        "              metrics=['accuracy'])\n",
        "\n",
        "# tf.keras.utils.plot_model(model1, show_shapes=True)"
      ],
      "execution_count": 0,
      "outputs": []
    },
    {
      "cell_type": "markdown",
      "metadata": {
        "colab_type": "text",
        "id": "C6LYJellrWzQ"
      },
      "source": [
        "## Load model"
      ]
    },
    {
      "cell_type": "code",
      "metadata": {
        "id": "d8tP46JMr109",
        "colab_type": "code",
        "colab": {}
      },
      "source": [
        "import os\n",
        "checkpoint_path = 'model_tumor_level1.h5' # only this file is available\n",
        "\n",
        "\n",
        "checkpoint_url = \"https://storage.googleapis.com/dl4cv1445/ADL/model_tumor_level1.h5\"\n",
        "\n",
        "# Download the whole slide image\n",
        "if not os.path.exists(checkpoint_path):\n",
        "  !curl -O $checkpoint_url\n"
      ],
      "execution_count": 0,
      "outputs": []
    },
    {
      "cell_type": "code",
      "metadata": {
        "colab_type": "code",
        "id": "n6foxYSRrWzR",
        "colab": {}
      },
      "source": [
        "model1.load_weights('model_tumor_level1.h5')"
      ],
      "execution_count": 0,
      "outputs": []
    },
    {
      "cell_type": "code",
      "metadata": {
        "id": "1ntRAhunm8xR",
        "colab_type": "code",
        "colab": {}
      },
      "source": [
        "# model1.save(PATH + 'model_tumor_level1.h5')"
      ],
      "execution_count": 0,
      "outputs": []
    },
    {
      "cell_type": "code",
      "metadata": {
        "id": "VBXaWFtbnsC5",
        "colab_type": "code",
        "colab": {}
      },
      "source": [
        "desired_layer1 = model1.get_layer('dense_7').output\n",
        "\n",
        "# Create the feature extraction model\n",
        "desired1 = tf.keras.Model(inputs=model1.input, outputs=desired_layer1)"
      ],
      "execution_count": 0,
      "outputs": []
    },
    {
      "cell_type": "markdown",
      "metadata": {
        "colab_type": "text",
        "id": "qPf72tPlkKnS"
      },
      "source": [
        "# Level 0"
      ]
    },
    {
      "cell_type": "markdown",
      "metadata": {
        "colab_type": "text",
        "id": "5IaTArATkKnX"
      },
      "source": [
        "## Define model"
      ]
    },
    {
      "cell_type": "code",
      "metadata": {
        "colab_type": "code",
        "id": "oLprDBwnkKnc",
        "colab": {}
      },
      "source": [
        "\n",
        "import tensorflow_datasets as tfds\n",
        "tfds.disable_progress_bar()\n",
        "\n",
        "from IPython.display import clear_output\n",
        "import matplotlib.pyplot as plt\n",
        "\n",
        "conv_base = tf.keras.applications.DenseNet201(weights='imagenet',\n",
        "                    include_top=False,\n",
        "                    input_shape=(128, 128, 3))\n",
        "\n",
        "base_model = conv_base"
      ],
      "execution_count": 0,
      "outputs": []
    },
    {
      "cell_type": "code",
      "metadata": {
        "colab_type": "code",
        "id": "TQFGhFtCkKnf",
        "colab": {}
      },
      "source": [
        "from __future__ import absolute_import, division, print_function, unicode_literals\n",
        "import keras.backend as K\n",
        "\n",
        "\n",
        "global_average_layer = tf.keras.layers.GlobalAveragePooling2D()\n",
        "prediction_layer = tf.keras.layers.Dense(1, activation='sigmoid')\n",
        "# build a new model reusing the pretrained base\n",
        "model0 = tf.keras.Sequential([\n",
        "  base_model,\n",
        "  tf.keras.layers.Conv2D(256, (1,1), activation='elu'),\n",
        "  tf.keras.layers.Flatten(input_shape=(4,4,512)),\n",
        "  tf.keras.layers.Dense(\n",
        "          128, activation='elu',\n",
        "          input_shape=(4, 4, 512),\n",
        "          kernel_initializer=tf.keras.initializers.he_normal(),\n",
        "          bias_initializer='zeros'),\n",
        "  tf.keras.layers.Dense(\n",
        "          64, activation='elu',\n",
        "          kernel_initializer=tf.keras.initializers.he_normal(),\n",
        "          bias_initializer='zeros'),\n",
        "  # tf.keras.layers.Dropout(0.5),\n",
        "  tf.keras.layers.Dense(\n",
        "          16, activation='elu',\n",
        "          kernel_initializer=tf.keras.initializers.he_normal(),\n",
        "          bias_initializer='zeros'),\n",
        "  tf.keras.layers.Dense(1, activation='sigmoid')\n",
        "])\n",
        "\n"
      ],
      "execution_count": 0,
      "outputs": []
    },
    {
      "cell_type": "code",
      "metadata": {
        "colab_type": "code",
        "id": "2AaHcL1NkKnh",
        "colab": {}
      },
      "source": [
        "sgd = tf.keras.optimizers.SGD(learning_rate=0.001, momentum=0.9)\n",
        "def loss_fn(y_true, y_pred):\n",
        "  loss = tf.keras.losses.binary_crossentropy(y_true, y_pred, from_logits=True)\n",
        "  return loss\n",
        "\n",
        "model0.compile(optimizer=sgd, loss=loss_fn,\n",
        "              metrics=['accuracy'])\n",
        "\n",
        "# tf.keras.utils.plot_model(model0, show_shapes=True)"
      ],
      "execution_count": 0,
      "outputs": []
    },
    {
      "cell_type": "markdown",
      "metadata": {
        "colab_type": "text",
        "id": "J0dmAzZAkKnk"
      },
      "source": [
        "## Load model"
      ]
    },
    {
      "cell_type": "code",
      "metadata": {
        "colab_type": "code",
        "id": "NN_vebBWkKnl",
        "colab": {}
      },
      "source": [
        "import os\n",
        "checkpoint_path = 'model_tumor_level0.h5' # only this file is available\n",
        "\n",
        "\n",
        "checkpoint_url = \"https://storage.googleapis.com/dl4cv1445/ADL/model_tumor_level0.h5\"\n",
        "\n",
        "# Download the whole slide image\n",
        "if not os.path.exists(checkpoint_path):\n",
        "  !curl -O $checkpoint_url\n"
      ],
      "execution_count": 0,
      "outputs": []
    },
    {
      "cell_type": "code",
      "metadata": {
        "colab_type": "code",
        "id": "r20ik5BIkKnn",
        "colab": {}
      },
      "source": [
        "model0.load_weights('model_tumor_level0.h5')"
      ],
      "execution_count": 0,
      "outputs": []
    },
    {
      "cell_type": "code",
      "metadata": {
        "id": "XQWPxUn2nIYk",
        "colab_type": "code",
        "colab": {}
      },
      "source": [
        "# model0.save(PATH + 'model_tumor_level0.h5')"
      ],
      "execution_count": 0,
      "outputs": []
    },
    {
      "cell_type": "code",
      "metadata": {
        "id": "82LMPrbIn4d_",
        "colab_type": "code",
        "colab": {}
      },
      "source": [
        "desired_layer0 = model0.get_layer('dense_12').output\n",
        "\n",
        "# Create the feature extraction model\n",
        "desired0 = tf.keras.Model(inputs=model0.input, outputs=desired_layer0)"
      ],
      "execution_count": 0,
      "outputs": []
    },
    {
      "cell_type": "markdown",
      "metadata": {
        "id": "u-JLzVjmlCLw",
        "colab_type": "text"
      },
      "source": [
        "# Concatenation"
      ]
    },
    {
      "cell_type": "code",
      "metadata": {
        "id": "UGRb-BkHmBqG",
        "colab_type": "code",
        "colab": {}
      },
      "source": [
        "PATH_models = '/content/drive/My Drive/DL/pool/'"
      ],
      "execution_count": 0,
      "outputs": []
    },
    {
      "cell_type": "code",
      "metadata": {
        "id": "CwH1mjT-oRMN",
        "colab_type": "code",
        "colab": {}
      },
      "source": [
        "from __future__ import absolute_import, division, print_function, unicode_literals\n",
        "\n",
        "import tensorflow as tf\n",
        "\n",
        "from tensorflow.keras.layers import Dense, Flatten, Conv2D\n",
        "from tensorflow.keras import Model\n",
        "\n",
        "class MyModel(Model):\n",
        "  def __init__(self):\n",
        "    super(MyModel, self).__init__()\n",
        "    self.d0 = desired0\n",
        "    self.d1 = desired1\n",
        "    self.d3 = desired3\n",
        "    self.dense1 = Dense(48, activation='relu')\n",
        "    self.dense2 = Dense(16, activation='relu')\n",
        "    self.last = Dense(1, activation='sigmoid')\n",
        "\n",
        "  def call(self, X):\n",
        "    x0 = X[..., 0:3]\n",
        "    x1 = X[..., 3:6]\n",
        "    x3 = X[..., 0:3]\n",
        "    a1 = self.d0(x0)\n",
        "    a2 = self.d1(x1)\n",
        "    a3 = self.d3(x3)\n",
        "    # print('a1.shape: ', a1.shape)\n",
        "    # print('a2.shape: ', a2.shape)\n",
        "    # print('a3.shape: ', a3.shape)\n",
        "    feat = tf.concat([a1, a2, a3], axis=1)\n",
        "    feat = self.dense1(feat)\n",
        "    feat = self.dense2(feat)\n",
        "    return self.last(feat)\n",
        "\n",
        "# Create an instance of the model\n",
        "model = MyModel()"
      ],
      "execution_count": 0,
      "outputs": []
    },
    {
      "cell_type": "code",
      "metadata": {
        "id": "oGhLXkGAqYd0",
        "colab_type": "code",
        "colab": {}
      },
      "source": [
        "callbacks = [\n",
        "    tf.keras.callbacks.EarlyStopping(patience=50, verbose=1),\n",
        "    tf.keras.callbacks.ReduceLROnPlateau(factor=0.1, patience=10, min_lr=0.000001, verbose=1),\n",
        "    tf.keras.callbacks.ModelCheckpoint(PATH_models+'model_tumor.h5', verbose=1, save_best_only=True, save_weights_only=True)\n",
        "]"
      ],
      "execution_count": 0,
      "outputs": []
    },
    {
      "cell_type": "code",
      "metadata": {
        "id": "IFYn0G2qpOAb",
        "colab_type": "code",
        "colab": {}
      },
      "source": [
        "sgd = tf.keras.optimizers.SGD(learning_rate=0.001, momentum=0.9)\n",
        "def loss_fn(y_true, y_pred):\n",
        "  loss = tf.keras.losses.binary_crossentropy(y_true, y_pred, from_logits=True)\n",
        "  return loss\n",
        "\n",
        "model.compile(optimizer=sgd, loss=loss_fn,\n",
        "              metrics=['accuracy'])\n"
      ],
      "execution_count": 0,
      "outputs": []
    },
    {
      "cell_type": "code",
      "metadata": {
        "id": "CN9pQTW4ppMw",
        "colab_type": "code",
        "colab": {}
      },
      "source": [
        "model.build(input_shape=(None, 128, 128, 9))"
      ],
      "execution_count": 0,
      "outputs": []
    },
    {
      "cell_type": "code",
      "metadata": {
        "id": "qn4DEP4TqYg3",
        "colab_type": "code",
        "outputId": "c831aec8-e353-4ee6-e767-a7173176f66a",
        "colab": {
          "base_uri": "https://localhost:8080/",
          "height": 357
        }
      },
      "source": [
        "model.summary()"
      ],
      "execution_count": 0,
      "outputs": [
        {
          "output_type": "stream",
          "text": [
            "Model: \"my_model\"\n",
            "_________________________________________________________________\n",
            "Layer (type)                 Output Shape              Param #   \n",
            "=================================================================\n",
            "model_2 (Model)              (None, 16)                19347472  \n",
            "_________________________________________________________________\n",
            "model_1 (Model)              (None, 16)                19347472  \n",
            "_________________________________________________________________\n",
            "model (Model)                (None, 16)                19077008  \n",
            "_________________________________________________________________\n",
            "dense_14 (Dense)             multiple                  2352      \n",
            "_________________________________________________________________\n",
            "dense_15 (Dense)             multiple                  784       \n",
            "_________________________________________________________________\n",
            "dense_16 (Dense)             multiple                  17        \n",
            "=================================================================\n",
            "Total params: 57,775,105\n",
            "Trainable params: 57,087,937\n",
            "Non-trainable params: 687,168\n",
            "_________________________________________________________________\n"
          ],
          "name": "stdout"
        }
      ]
    },
    {
      "cell_type": "markdown",
      "metadata": {
        "id": "OvjlnQAP0l9q",
        "colab_type": "text"
      },
      "source": [
        "## Train on epoch"
      ]
    },
    {
      "cell_type": "code",
      "metadata": {
        "id": "vWZUCS80yyS0",
        "colab_type": "code",
        "colab": {}
      },
      "source": [
        "# i = 0\n",
        "# batch_size = 32\n",
        "# batch_features = np.zeros(shape=(batch_size, 128, 128, 9))\n",
        "# batch_labels = np.zeros(shape=(batch_size))\n",
        "# for inputs_batch, labels_batch in training_generator:\n",
        "#     # features_batch = conv_base.predict(inputs_batch)\n",
        "#     batch_features[0 : batch_size] = inputs_batch\n",
        "#     batch_labels[0: batch_size] = labels_batch\n",
        "#     if np.count_nonzero(batch_labels) > 1:\n",
        "#       print('Found!')\n",
        "#       break\n",
        "\n",
        "# print(batch_features.shape, batch_labels.shape)"
      ],
      "execution_count": 0,
      "outputs": []
    },
    {
      "cell_type": "code",
      "metadata": {
        "id": "c8V-MlZoyzc5",
        "colab_type": "code",
        "colab": {}
      },
      "source": [
        "# epochs = 10\n",
        "# for i in range(epochs):\n",
        "#   metrics = model.train_on_batch(\n",
        "#                   batch_features,\n",
        "#                   y=batch_labels\n",
        "#                   # class_weight=class_weight\n",
        "#               )\n",
        "#   print(i, ' epoch: ', metrics[0], metrics[1])\n"
      ],
      "execution_count": 0,
      "outputs": []
    },
    {
      "cell_type": "markdown",
      "metadata": {
        "id": "wlu3y8em0xas",
        "colab_type": "text"
      },
      "source": [
        "## Train all dataset"
      ]
    },
    {
      "cell_type": "code",
      "metadata": {
        "id": "D-xfSNNJ5TMR",
        "colab_type": "code",
        "colab": {}
      },
      "source": [
        "model.load_weights(PATH_models+'model_tumor.h5')"
      ],
      "execution_count": 0,
      "outputs": []
    },
    {
      "cell_type": "code",
      "metadata": {
        "id": "qhEC4zS2zlM-",
        "colab_type": "code",
        "colab": {}
      },
      "source": [
        "# EPOCHS = 20\n",
        "\n",
        "# # Train model on dataset\n",
        "\n",
        "# model_history = model.fit_generator(generator=training_generator,\n",
        "#                     validation_data=validation_generator,\n",
        "#                     use_multiprocessing=False,\n",
        "#                     workers=1, \n",
        "#                     epochs=EPOCHS,\n",
        "#                     max_queue_size=6,\n",
        "#                     callbacks=callbacks)"
      ],
      "execution_count": 0,
      "outputs": []
    },
    {
      "cell_type": "code",
      "metadata": {
        "id": "fZhJ0ZF2699r",
        "colab_type": "code",
        "colab": {}
      },
      "source": [
        "# try:\n",
        "#   loss = np.load(PATH_models + 'loss.npy', loss)\n",
        "#   val_loss = np.load(PATH_models + 'val_loss.npy', val_loss)\n",
        "#   acc = np.load(PATH_models + 'acc.npy', acc)\n",
        "#   val_acc = np.load(PATH_models + 'val_acc.npy', val_acc)\n",
        "# except:\n",
        "#   loss = []\n",
        "#   val_loss = []\n",
        "\n",
        "#   acc = []\n",
        "#   val_acc = []\n"
      ],
      "execution_count": 0,
      "outputs": []
    },
    {
      "cell_type": "code",
      "metadata": {
        "id": "fjzgO-uNUSHr",
        "colab_type": "code",
        "colab": {}
      },
      "source": [
        "# loss = [0.5150, 0.5089, 0.5075, 0.5075, 0.5074, 0.5072, 0.5073, 0.5069, 0.5073, 0.5070, 0.5067, 0.5066, 0.5065, 0.5065, 0.5065, 0.5064, 0.5066, 0.5066, 0.5065, 0.5065, 0.5064, 0.5062]\n",
        "# acc = [0.9744, 0.9861, 0.9893, 0.9890, 0.9892, 0.9898, 0.9896, 0.9904, 0.9895, 0.9902, 0.9910, 0.9912, 0.9913, 0.9915, 0.9915, 0.9916, 0.9912, 0.9913, 0.9916, 0.9913, 0.9918, 0.9923]\n",
        "\n",
        "# val_loss = [0.5174, 0.5134, 0.5135, 0.5138, 0.5133, 0.5157, 0.5142, 0.5145, 0.5180, 0.5129, 0.5132, 0.5137, 0.5144, 0.5127, 0.5127, 0.5130, 0.5117, 0.5137, 0.5150, 0.5145, 0.5146, 0.5132]\n",
        "# val_acc = [0.9632, 0.9738, 0.9721, 0.9706, 0.9727, 0.9778, 0.9706, 0.9706, 0.9709, 0.9741, 0.9749, 0.9720, 0.9703, 0.9750, 0.9749, 0.9745, 0.9769, 0.9721, 0.9680, 0.9707, 0.9697, 0.9743]"
      ],
      "execution_count": 0,
      "outputs": []
    },
    {
      "cell_type": "code",
      "metadata": {
        "id": "a_TfeG0R66TB",
        "colab_type": "code",
        "colab": {}
      },
      "source": [
        "# loss += model_history.history['loss']\n",
        "# val_loss += model_history.history['val_loss']\n",
        "\n",
        "# acc += model_history.history['accuracy']\n",
        "# val_acc += model_history.history['val_accuracy']\n"
      ],
      "execution_count": 0,
      "outputs": []
    },
    {
      "cell_type": "code",
      "metadata": {
        "id": "KBn7oYR_8UWt",
        "colab_type": "code",
        "colab": {}
      },
      "source": [
        "# np.save(PATH_models + 'loss.npy', loss)\n",
        "# np.save(PATH_models + 'val_loss.npy', val_loss)\n",
        "# np.save(PATH_models + 'acc.npy', acc)\n",
        "# np.save(PATH_models + 'val_acc.npy', val_acc)"
      ],
      "execution_count": 0,
      "outputs": []
    },
    {
      "cell_type": "code",
      "metadata": {
        "id": "52WqGdYU7URm",
        "colab_type": "code",
        "colab": {}
      },
      "source": [
        "# epochs = range(len(loss))\n",
        "\n",
        "# plt.figure()\n",
        "# plt.plot(epochs, loss, 'r', label='Training loss')\n",
        "# plt.plot(epochs, val_loss, 'b', label='Validation loss')\n",
        "# plt.title('Training and Validation Loss')\n",
        "# plt.xlabel('Epoch')\n",
        "# plt.ylabel('Loss Value')\n",
        "# # plt.ylim([0, 1])\n",
        "# plt.legend()\n",
        "# plt.show()"
      ],
      "execution_count": 0,
      "outputs": []
    },
    {
      "cell_type": "code",
      "metadata": {
        "id": "24kjYFUI1NQf",
        "colab_type": "code",
        "colab": {}
      },
      "source": [
        "\n",
        "# plt.figure()\n",
        "# plt.plot(epochs, acc, 'r', label='Training accuracy')\n",
        "# plt.plot(epochs, val_acc, 'b', label='Validation accuracy')\n",
        "# plt.title('Training and Validation Accuracy')\n",
        "# plt.xlabel('Epoch')\n",
        "# plt.ylabel('Accuracy Value')\n",
        "# # plt.ylim([0, 1])\n",
        "# plt.legend()\n",
        "# plt.show()"
      ],
      "execution_count": 0,
      "outputs": []
    },
    {
      "cell_type": "code",
      "metadata": {
        "id": "B-J1KqqP61T0",
        "colab_type": "code",
        "colab": {}
      },
      "source": [
        ""
      ],
      "execution_count": 0,
      "outputs": []
    },
    {
      "cell_type": "markdown",
      "metadata": {
        "id": "95We7Zn1C_2B",
        "colab_type": "text"
      },
      "source": [
        "# Visualization\n"
      ]
    },
    {
      "cell_type": "code",
      "metadata": {
        "id": "6H0ZvGV-DBWJ",
        "colab_type": "code",
        "colab": {}
      },
      "source": [
        "def get_imgs(slide, levels=[0, 1, 3], width=128, height=128, x=0, y=0):\n",
        "    \"\"\"\n",
        "    Given a slide or tumor mask, output multiple level images with the same shape (height and width).\n",
        "    These images belong to multiple zoom levels, which is specified by the parameter levels, but with the same center point w.r.t. the whole slide.\n",
        "    :param slide: A openslide.OpenSlide instance \n",
        "    :param levels: A list, specifying the zoom levels of which the users want to get the corresponding image. eg. [0, 1, 2], [0, 1, 3, 5] ...\n",
        "    :param width, height: the expected width and height of each image to output \n",
        "    :param x, y: giving the top left pixel w.r.t. the biggest zoom level (i.e. the coarsest level) that the user specifies\n",
        "    :return: a list of images corresponding to the different zoom levels that the user specified (from the finest to the coarsest)\n",
        "    \"\"\"\n",
        "    assert len(levels)>0\n",
        "    levels.sort()\n",
        "    finest = levels[0]\n",
        "    coarsest = levels[-1]\n",
        "    try:\n",
        "        assert 0 <= x <= slide.level_dimensions[coarsest][0] - width\n",
        "        assert 0 <= y <= slide.level_dimensions[coarsest][1] - height\n",
        "    except:\n",
        "        pass\n",
        "\n",
        "    result_imgs = []\n",
        "    for level in levels:\n",
        "        x_temp = x*2**(coarsest-level) + (width*2**(coarsest-level) - width)/2\n",
        "        y_temp = y*2**(coarsest-level) + (height*2**(coarsest-level) - height)/2\n",
        "\n",
        "        img = read_slide(slide=slide, x=int(x_temp*2**level), y=int(y_temp*2**level), level=level, width=width, height=height)\n",
        "        result_imgs.append(img)\n",
        "\n",
        "    return np.concatenate((result_imgs[0], result_imgs[1], result_imgs[2]), axis=2)"
      ],
      "execution_count": 0,
      "outputs": []
    },
    {
      "cell_type": "code",
      "metadata": {
        "id": "e6_xq5PkDoMz",
        "colab_type": "code",
        "outputId": "a4f23e55-ca8f-414d-f92f-64b86884fba2",
        "colab": {
          "base_uri": "https://localhost:8080/",
          "height": 129
        }
      },
      "source": [
        "im_013 = get_imgs(slide, levels=[0, 1, 3], width=128, height=128, x=4000, y=5000)\n",
        "\n",
        "fig, axes = plt.subplots(1, 3, figsize=(6,18))\n",
        "\n",
        "for i in range(3):\n",
        "  axes[i].imshow(im_013[..., i*3: (i+1)*3])\n",
        "  axes[i].axis('off')"
      ],
      "execution_count": 0,
      "outputs": [
        {
          "output_type": "display_data",
          "data": {
            "image/png": "[encoded data removed]",
            "text/plain": [
              "<Figure size 432x1296 with 3 Axes>"
            ]
          },
          "metadata": {
            "tags": []
          }
        }
      ]
    },
    {
      "cell_type": "code",
      "metadata": {
        "id": "iUwaY8arDrKU",
        "colab_type": "code",
        "colab": {}
      },
      "source": [
        "def get_patches_coords(slide_path, patch_width=128, patch_height=128, coord_level=3):\n",
        "    \"\"\"\n",
        "    Divide level0 image of a slide into patches, with the specified width and height for each patch. \n",
        "    (Default: 128x128 per patch)\n",
        "    Return an 2D array of strings, of shape (level0_height / patch_height, level0_width / patch_width);\n",
        "    each string tells the x y coords of the top left point of a patch_lv corresponding to the level0 patch at this position (of the returned 2D array),\n",
        "    where patch_lv is a (patch_height x patch_width) patch at level $coord_level$ (user specified, default to 3), it is homocentric w.r.t its corresponding level0 patch.  \n",
        "\n",
        "    :param slide_path: file path to the slide\n",
        "    :param patch_width, patch_height: default to 128; not recommended to be changed, be careful! - may cause some aliquant issue\n",
        "    :param coord_level: of which level the x y coordinates in each string represent the top left position of a patch\n",
        "    :return: 2D array consisting of strings, of shape (level0_height / patch_height, level0_width / patch_width)\n",
        "    eg. \n",
        "    \"\"\"\n",
        "    slide = open_slide(slide_path)\n",
        "    f_name = os.path.basename(slide_path).split('.')[0]\n",
        "\n",
        "    level0_width = slide.level_dimensions[0][0] \n",
        "    level0_height = slide.level_dimensions[0][1]\n",
        "\n",
        "    if level0_width % patch_width !=0:\n",
        "        print('Be careful! A level0 image of width {} cannot be divided into integer number of patches given the patch_width: {}'.format(level0_width, patch_width))\n",
        "    if level0_height % patch_height !=0:\n",
        "        print('Be careful! A level0 image of height {} cannot be divided into integer number of patches given the patch_height: {}'.format(level0_height, patch_height))\n",
        "    patch_cols = int(level0_width / patch_width)\n",
        "    patch_rows = int(level0_height / patch_height)\n",
        "    result = np.empty((patch_rows, patch_cols), dtype=object)\n",
        "\n",
        "    for r in range(patch_rows):\n",
        "        for c in range(patch_cols):\n",
        "            # coordinates of the top left point at level 0\n",
        "            x0 = patch_width*c\n",
        "            y0 = patch_height*r\n",
        "\n",
        "            # coordinates of the top left point at level $coord_level$\n",
        "            x = int((x0 - (patch_width*2**coord_level-patch_width)/2) / (2**coord_level))\n",
        "            y = int((y0 - (patch_height*2**coord_level-patch_height)/2) / (2**coord_level))\n",
        "            result[r][c] = f_name + '_' + str(x) + '_' + str(y)\n",
        "\n",
        "    return result\n"
      ],
      "execution_count": 0,
      "outputs": []
    },
    {
      "cell_type": "code",
      "metadata": {
        "id": "zjyuoAIeTkgU",
        "colab_type": "code",
        "colab": {}
      },
      "source": [
        "def is_tissue(image, intensity=0.8):\n",
        "    # print(\"image shape: \", image.shape)\n",
        "    im_gray = rgb2gray(image)\n",
        "    assert im_gray.shape == (image.shape[0], image.shape[1])\n",
        "    indices = np.where(im_gray <= intensity)\n",
        "    percent_tissue = len(indices[0]) / float(image.shape[0] * image.shape[0]) * 100\n",
        "    if percent_tissue >= 0.3:\n",
        "      return True\n",
        "    else:\n",
        "      return False"
      ],
      "execution_count": 0,
      "outputs": []
    },
    {
      "cell_type": "markdown",
      "metadata": {
        "colab_type": "text",
        "id": "3p76lpFFdSEc"
      },
      "source": [
        "## 016 visualization"
      ]
    },
    {
      "cell_type": "code",
      "metadata": {
        "id": "e_cIlK4ZdVuR",
        "colab_type": "code",
        "colab": {}
      },
      "source": [
        "im_name = '001'\n",
        "\n",
        "slide_path = 'tumor_'+ im_name +'.tif' # only this file is available\n",
        "tumor_mask_path = 'tumor_'+ im_name +'_mask.tif' # only this file is available\n",
        "\n",
        "\n",
        "slide_url = \"https://storage.googleapis.com/dl4cv1445/ADL/tumor_\"+ im_name +\".tif\"\n",
        "mask_url = \"https://storage.googleapis.com/dl4cv1445/ADL/tumor_\" + im_name + \"_mask.tif\"\n",
        "\n",
        "# Download the whole slide image\n",
        "if not os.path.exists(slide_path):\n",
        "  !curl -O $slide_url\n",
        "\n",
        "# Download the tumor mask\n",
        "if not os.path.exists(tumor_mask_path):\n",
        "  !curl -O $mask_url"
      ],
      "execution_count": 0,
      "outputs": []
    },
    {
      "cell_type": "code",
      "metadata": {
        "colab_type": "code",
        "id": "BOxp4XMwdSEf",
        "outputId": "257415e8-71ef-4189-a701-301a249b1c5e",
        "colab": {
          "base_uri": "https://localhost:8080/",
          "height": 1000
        }
      },
      "source": [
        "from numpy import asarray\n",
        "import time\n",
        "\n",
        "\n",
        "string_matrix = get_patches_coords(slide_path)\n",
        "slide = open_slide(slide_path)\n",
        "\n",
        "output_pred = np.zeros(string_matrix.shape, dtype=np.float32)\n",
        "heatmap = np.zeros(string_matrix.shape, dtype=np.float32)\n",
        "\n",
        "start_patch_r = 0\n",
        "start_patch_c = 0\n",
        "\n",
        "b_size = 120\n",
        "\n",
        "patch_rows, patch_cols = string_matrix.shape\n",
        "print(patch_rows, patch_cols)\n",
        "\n",
        "steps = int(np.ceil(patch_cols/b_size))\n",
        "print('overall steps: ', steps * patch_rows)\n",
        "\n",
        "for i in range(patch_rows):\n",
        "    test_batch = np.empty((patch_cols, 128, 128, 9), dtype=np.float32)\n",
        "    for j in range(patch_cols):\n",
        "        y = int(string_matrix[i+start_patch_r][j+start_patch_c].split('_')[-1])\n",
        "        x = int(string_matrix[i+start_patch_r][j+start_patch_c].split('_')[-2])\n",
        "        img = get_imgs(slide, levels=[0, 1, 3], x=x, y=y)\n",
        "        img = asarray(img, np.float32)\n",
        "        img /= 255.0\n",
        "\n",
        "        # fig, axes = plt.subplots(1, 3, figsize=(6,18))\n",
        "        # for i in range(3):\n",
        "        #   axes[i].imshow(img[..., i*3: (i+1)*3])\n",
        "        #   axes[i].axis('off')\n",
        "        # clear_output(wait=True)\n",
        "        # time.sleep(1.0)\n",
        "\n",
        "        # if is_tissue(img[...,0:3]):\n",
        "        img = tf.expand_dims(img, 0)\n",
        "        \n",
        "        test_batch[j,] = img\n",
        "    print(i, test_batch.shape)\n",
        "    for k in range(steps):\n",
        "      if (k+1)*b_size <= patch_cols:\n",
        "        test_data = test_batch[k*b_size: (k+1)*b_size,]\n",
        "        temp = model(test_data)\n",
        "        heatmap[i,...,k*b_size: (k+1)*b_size] = np.squeeze(temp)\n",
        "      else:\n",
        "        test_data = test_batch[k*b_size: patch_cols,]\n",
        "        temp = model(test_data)\n",
        "        heatmap[i,...,k*b_size: patch_cols] = np.squeeze(temp)\n",
        "    gc.collect()\n",
        " "
      ],
      "execution_count": 0,
      "outputs": [
        {
          "output_type": "stream",
          "text": [
            "1728 764\n",
            "overall steps:  12096\n",
            "0 (764, 128, 128, 9)\n",
            "1 (764, 128, 128, 9)\n",
            "2 (764, 128, 128, 9)\n",
            "3 (764, 128, 128, 9)\n",
            "4 (764, 128, 128, 9)\n",
            "5 (764, 128, 128, 9)\n",
            "6 (764, 128, 128, 9)\n",
            "7 (764, 128, 128, 9)\n",
            "8 (764, 128, 128, 9)\n",
            "9 (764, 128, 128, 9)\n",
            "10 (764, 128, 128, 9)\n",
            "11 (764, 128, 128, 9)\n",
            "12 (764, 128, 128, 9)\n",
            "13 (764, 128, 128, 9)\n",
            "14 (764, 128, 128, 9)\n",
            "15 (764, 128, 128, 9)\n",
            "16 (764, 128, 128, 9)\n",
            "17 (764, 128, 128, 9)\n",
            "18 (764, 128, 128, 9)\n",
            "19 (764, 128, 128, 9)\n",
            "20 (764, 128, 128, 9)\n",
            "21 (764, 128, 128, 9)\n",
            "22 (764, 128, 128, 9)\n",
            "23 (764, 128, 128, 9)\n",
            "24 (764, 128, 128, 9)\n",
            "25 (764, 128, 128, 9)\n",
            "26 (764, 128, 128, 9)\n",
            "27 (764, 128, 128, 9)\n",
            "28 (764, 128, 128, 9)\n",
            "29 (764, 128, 128, 9)\n",
            "30 (764, 128, 128, 9)\n",
            "31 (764, 128, 128, 9)\n",
            "32 (764, 128, 128, 9)\n",
            "33 (764, 128, 128, 9)\n",
            "34 (764, 128, 128, 9)\n",
            "35 (764, 128, 128, 9)\n",
            "36 (764, 128, 128, 9)\n",
            "37 (764, 128, 128, 9)\n",
            "38 (764, 128, 128, 9)\n",
            "39 (764, 128, 128, 9)\n",
            "40 (764, 128, 128, 9)\n",
            "41 (764, 128, 128, 9)\n",
            "42 (764, 128, 128, 9)\n",
            "43 (764, 128, 128, 9)\n",
            "44 (764, 128, 128, 9)\n",
            "45 (764, 128, 128, 9)\n",
            "46 (764, 128, 128, 9)\n",
            "47 (764, 128, 128, 9)\n",
            "48 (764, 128, 128, 9)\n",
            "49 (764, 128, 128, 9)\n",
            "50 (764, 128, 128, 9)\n",
            "51 (764, 128, 128, 9)\n",
            "52 (764, 128, 128, 9)\n",
            "53 (764, 128, 128, 9)\n",
            "54 (764, 128, 128, 9)\n",
            "55 (764, 128, 128, 9)\n",
            "56 (764, 128, 128, 9)\n",
            "57 (764, 128, 128, 9)\n",
            "58 (764, 128, 128, 9)\n",
            "59 (764, 128, 128, 9)\n",
            "60 (764, 128, 128, 9)\n",
            "61 (764, 128, 128, 9)\n",
            "62 (764, 128, 128, 9)\n",
            "63 (764, 128, 128, 9)\n",
            "64 (764, 128, 128, 9)\n",
            "65 (764, 128, 128, 9)\n",
            "66 (764, 128, 128, 9)\n",
            "67 (764, 128, 128, 9)\n",
            "68 (764, 128, 128, 9)\n",
            "69 (764, 128, 128, 9)\n",
            "70 (764, 128, 128, 9)\n",
            "71 (764, 128, 128, 9)\n",
            "72 (764, 128, 128, 9)\n",
            "73 (764, 128, 128, 9)\n",
            "74 (764, 128, 128, 9)\n",
            "75 (764, 128, 128, 9)\n",
            "76 (764, 128, 128, 9)\n",
            "77 (764, 128, 128, 9)\n",
            "78 (764, 128, 128, 9)\n",
            "79 (764, 128, 128, 9)\n",
            "80 (764, 128, 128, 9)\n",
            "81 (764, 128, 128, 9)\n",
            "82 (764, 128, 128, 9)\n",
            "83 (764, 128, 128, 9)\n",
            "84 (764, 128, 128, 9)\n",
            "85 (764, 128, 128, 9)\n",
            "86 (764, 128, 128, 9)\n",
            "87 (764, 128, 128, 9)\n",
            "88 (764, 128, 128, 9)\n",
            "89 (764, 128, 128, 9)\n",
            "90 (764, 128, 128, 9)\n",
            "91 (764, 128, 128, 9)\n",
            "92 (764, 128, 128, 9)\n",
            "93 (764, 128, 128, 9)\n",
            "94 (764, 128, 128, 9)\n",
            "95 (764, 128, 128, 9)\n",
            "96 (764, 128, 128, 9)\n",
            "97 (764, 128, 128, 9)\n",
            "98 (764, 128, 128, 9)\n",
            "99 (764, 128, 128, 9)\n",
            "100 (764, 128, 128, 9)\n",
            "101 (764, 128, 128, 9)\n",
            "102 (764, 128, 128, 9)\n",
            "103 (764, 128, 128, 9)\n",
            "104 (764, 128, 128, 9)\n",
            "105 (764, 128, 128, 9)\n",
            "106 (764, 128, 128, 9)\n",
            "107 (764, 128, 128, 9)\n",
            "108 (764, 128, 128, 9)\n",
            "109 (764, 128, 128, 9)\n",
            "110 (764, 128, 128, 9)\n",
            "111 (764, 128, 128, 9)\n",
            "112 (764, 128, 128, 9)\n",
            "113 (764, 128, 128, 9)\n",
            "114 (764, 128, 128, 9)\n",
            "115 (764, 128, 128, 9)\n",
            "116 (764, 128, 128, 9)\n",
            "117 (764, 128, 128, 9)\n",
            "118 (764, 128, 128, 9)\n",
            "119 (764, 128, 128, 9)\n",
            "120 (764, 128, 128, 9)\n",
            "121 (764, 128, 128, 9)\n",
            "122 (764, 128, 128, 9)\n",
            "123 (764, 128, 128, 9)\n",
            "124 (764, 128, 128, 9)\n",
            "125 (764, 128, 128, 9)\n",
            "126 (764, 128, 128, 9)\n",
            "127 (764, 128, 128, 9)\n",
            "128 (764, 128, 128, 9)\n",
            "129 (764, 128, 128, 9)\n",
            "130 (764, 128, 128, 9)\n",
            "131 (764, 128, 128, 9)\n",
            "132 (764, 128, 128, 9)\n",
            "133 (764, 128, 128, 9)\n",
            "134 (764, 128, 128, 9)\n",
            "135 (764, 128, 128, 9)\n",
            "136 (764, 128, 128, 9)\n",
            "137 (764, 128, 128, 9)\n",
            "138 (764, 128, 128, 9)\n",
            "139 (764, 128, 128, 9)\n",
            "140 (764, 128, 128, 9)\n",
            "141 (764, 128, 128, 9)\n",
            "142 (764, 128, 128, 9)\n",
            "143 (764, 128, 128, 9)\n",
            "144 (764, 128, 128, 9)\n",
            "145 (764, 128, 128, 9)\n",
            "146 (764, 128, 128, 9)\n",
            "147 (764, 128, 128, 9)\n",
            "148 (764, 128, 128, 9)\n",
            "149 (764, 128, 128, 9)\n",
            "150 (764, 128, 128, 9)\n",
            "151 (764, 128, 128, 9)\n",
            "152 (764, 128, 128, 9)\n",
            "153 (764, 128, 128, 9)\n",
            "154 (764, 128, 128, 9)\n",
            "155 (764, 128, 128, 9)\n",
            "156 (764, 128, 128, 9)\n",
            "157 (764, 128, 128, 9)\n",
            "158 (764, 128, 128, 9)\n",
            "159 (764, 128, 128, 9)\n",
            "160 (764, 128, 128, 9)\n",
            "161 (764, 128, 128, 9)\n",
            "162 (764, 128, 128, 9)\n",
            "163 (764, 128, 128, 9)\n",
            "164 (764, 128, 128, 9)\n",
            "165 (764, 128, 128, 9)\n",
            "166 (764, 128, 128, 9)\n",
            "167 (764, 128, 128, 9)\n",
            "168 (764, 128, 128, 9)\n",
            "169 (764, 128, 128, 9)\n",
            "170 (764, 128, 128, 9)\n",
            "171 (764, 128, 128, 9)\n",
            "172 (764, 128, 128, 9)\n",
            "173 (764, 128, 128, 9)\n",
            "174 (764, 128, 128, 9)\n",
            "175 (764, 128, 128, 9)\n",
            "176 (764, 128, 128, 9)\n",
            "177 (764, 128, 128, 9)\n",
            "178 (764, 128, 128, 9)\n",
            "179 (764, 128, 128, 9)\n",
            "180 (764, 128, 128, 9)\n",
            "181 (764, 128, 128, 9)\n",
            "182 (764, 128, 128, 9)\n",
            "183 (764, 128, 128, 9)\n",
            "184 (764, 128, 128, 9)\n",
            "185 (764, 128, 128, 9)\n",
            "186 (764, 128, 128, 9)\n",
            "187 (764, 128, 128, 9)\n",
            "188 (764, 128, 128, 9)\n",
            "189 (764, 128, 128, 9)\n",
            "190 (764, 128, 128, 9)\n",
            "191 (764, 128, 128, 9)\n",
            "192 (764, 128, 128, 9)\n",
            "193 (764, 128, 128, 9)\n",
            "194 (764, 128, 128, 9)\n",
            "195 (764, 128, 128, 9)\n",
            "196 (764, 128, 128, 9)\n",
            "197 (764, 128, 128, 9)\n",
            "198 (764, 128, 128, 9)\n",
            "199 (764, 128, 128, 9)\n",
            "200 (764, 128, 128, 9)\n",
            "201 (764, 128, 128, 9)\n",
            "202 (764, 128, 128, 9)\n",
            "203 (764, 128, 128, 9)\n",
            "204 (764, 128, 128, 9)\n",
            "205 (764, 128, 128, 9)\n",
            "206 (764, 128, 128, 9)\n",
            "207 (764, 128, 128, 9)\n",
            "208 (764, 128, 128, 9)\n",
            "209 (764, 128, 128, 9)\n",
            "210 (764, 128, 128, 9)\n",
            "211 (764, 128, 128, 9)\n",
            "212 (764, 128, 128, 9)\n",
            "213 (764, 128, 128, 9)\n",
            "214 (764, 128, 128, 9)\n",
            "215 (764, 128, 128, 9)\n",
            "216 (764, 128, 128, 9)\n",
            "217 (764, 128, 128, 9)\n",
            "218 (764, 128, 128, 9)\n",
            "219 (764, 128, 128, 9)\n",
            "220 (764, 128, 128, 9)\n",
            "221 (764, 128, 128, 9)\n",
            "222 (764, 128, 128, 9)\n",
            "223 (764, 128, 128, 9)\n",
            "224 (764, 128, 128, 9)\n",
            "225 (764, 128, 128, 9)\n",
            "226 (764, 128, 128, 9)\n",
            "227 (764, 128, 128, 9)\n",
            "228 (764, 128, 128, 9)\n",
            "229 (764, 128, 128, 9)\n",
            "230 (764, 128, 128, 9)\n",
            "231 (764, 128, 128, 9)\n",
            "232 (764, 128, 128, 9)\n",
            "233 (764, 128, 128, 9)\n",
            "234 (764, 128, 128, 9)\n",
            "235 (764, 128, 128, 9)\n",
            "236 (764, 128, 128, 9)\n",
            "237 (764, 128, 128, 9)\n",
            "238 (764, 128, 128, 9)\n",
            "239 (764, 128, 128, 9)\n",
            "240 (764, 128, 128, 9)\n",
            "241 (764, 128, 128, 9)\n",
            "242 (764, 128, 128, 9)\n",
            "243 (764, 128, 128, 9)\n",
            "244 (764, 128, 128, 9)\n",
            "245 (764, 128, 128, 9)\n",
            "246 (764, 128, 128, 9)\n",
            "247 (764, 128, 128, 9)\n",
            "248 (764, 128, 128, 9)\n",
            "249 (764, 128, 128, 9)\n",
            "250 (764, 128, 128, 9)\n",
            "251 (764, 128, 128, 9)\n",
            "252 (764, 128, 128, 9)\n",
            "253 (764, 128, 128, 9)\n",
            "254 (764, 128, 128, 9)\n",
            "255 (764, 128, 128, 9)\n",
            "256 (764, 128, 128, 9)\n",
            "257 (764, 128, 128, 9)\n",
            "258 (764, 128, 128, 9)\n",
            "259 (764, 128, 128, 9)\n",
            "260 (764, 128, 128, 9)\n",
            "261 (764, 128, 128, 9)\n",
            "262 (764, 128, 128, 9)\n",
            "263 (764, 128, 128, 9)\n",
            "264 (764, 128, 128, 9)\n",
            "265 (764, 128, 128, 9)\n",
            "266 (764, 128, 128, 9)\n",
            "267 (764, 128, 128, 9)\n",
            "268 (764, 128, 128, 9)\n",
            "269 (764, 128, 128, 9)\n",
            "270 (764, 128, 128, 9)\n",
            "271 (764, 128, 128, 9)\n",
            "272 (764, 128, 128, 9)\n",
            "273 (764, 128, 128, 9)\n",
            "274 (764, 128, 128, 9)\n",
            "275 (764, 128, 128, 9)\n",
            "276 (764, 128, 128, 9)\n",
            "277 (764, 128, 128, 9)\n",
            "278 (764, 128, 128, 9)\n",
            "279 (764, 128, 128, 9)\n",
            "280 (764, 128, 128, 9)\n",
            "281 (764, 128, 128, 9)\n",
            "282 (764, 128, 128, 9)\n",
            "283 (764, 128, 128, 9)\n",
            "284 (764, 128, 128, 9)\n",
            "285 (764, 128, 128, 9)\n",
            "286 (764, 128, 128, 9)\n",
            "287 (764, 128, 128, 9)\n",
            "288 (764, 128, 128, 9)\n",
            "289 (764, 128, 128, 9)\n",
            "290 (764, 128, 128, 9)\n",
            "291 (764, 128, 128, 9)\n",
            "292 (764, 128, 128, 9)\n",
            "293 (764, 128, 128, 9)\n",
            "294 (764, 128, 128, 9)\n",
            "295 (764, 128, 128, 9)\n",
            "296 (764, 128, 128, 9)\n",
            "297 (764, 128, 128, 9)\n",
            "298 (764, 128, 128, 9)\n",
            "299 (764, 128, 128, 9)\n",
            "300 (764, 128, 128, 9)\n",
            "301 (764, 128, 128, 9)\n",
            "302 (764, 128, 128, 9)\n",
            "303 (764, 128, 128, 9)\n",
            "304 (764, 128, 128, 9)\n",
            "305 (764, 128, 128, 9)\n",
            "306 (764, 128, 128, 9)\n",
            "307 (764, 128, 128, 9)\n",
            "308 (764, 128, 128, 9)\n",
            "309 (764, 128, 128, 9)\n",
            "310 (764, 128, 128, 9)\n",
            "311 (764, 128, 128, 9)\n",
            "312 (764, 128, 128, 9)\n",
            "313 (764, 128, 128, 9)\n",
            "314 (764, 128, 128, 9)\n",
            "315 (764, 128, 128, 9)\n",
            "316 (764, 128, 128, 9)\n",
            "317 (764, 128, 128, 9)\n",
            "318 (764, 128, 128, 9)\n",
            "319 (764, 128, 128, 9)\n",
            "320 (764, 128, 128, 9)\n",
            "321 (764, 128, 128, 9)\n",
            "322 (764, 128, 128, 9)\n",
            "323 (764, 128, 128, 9)\n",
            "324 (764, 128, 128, 9)\n",
            "325 (764, 128, 128, 9)\n",
            "326 (764, 128, 128, 9)\n",
            "327 (764, 128, 128, 9)\n",
            "328 (764, 128, 128, 9)\n",
            "329 (764, 128, 128, 9)\n",
            "330 (764, 128, 128, 9)\n",
            "331 (764, 128, 128, 9)\n",
            "332 (764, 128, 128, 9)\n",
            "333 (764, 128, 128, 9)\n",
            "334 (764, 128, 128, 9)\n",
            "335 (764, 128, 128, 9)\n",
            "336 (764, 128, 128, 9)\n",
            "337 (764, 128, 128, 9)\n",
            "338 (764, 128, 128, 9)\n",
            "339 (764, 128, 128, 9)\n",
            "340 (764, 128, 128, 9)\n",
            "341 (764, 128, 128, 9)\n",
            "342 (764, 128, 128, 9)\n",
            "343 (764, 128, 128, 9)\n",
            "344 (764, 128, 128, 9)\n",
            "345 (764, 128, 128, 9)\n",
            "346 (764, 128, 128, 9)\n",
            "347 (764, 128, 128, 9)\n",
            "348 (764, 128, 128, 9)\n",
            "349 (764, 128, 128, 9)\n",
            "350 (764, 128, 128, 9)\n",
            "351 (764, 128, 128, 9)\n",
            "352 (764, 128, 128, 9)\n",
            "353 (764, 128, 128, 9)\n",
            "354 (764, 128, 128, 9)\n",
            "355 (764, 128, 128, 9)\n",
            "356 (764, 128, 128, 9)\n",
            "357 (764, 128, 128, 9)\n",
            "358 (764, 128, 128, 9)\n",
            "359 (764, 128, 128, 9)\n",
            "360 (764, 128, 128, 9)\n",
            "361 (764, 128, 128, 9)\n",
            "362 (764, 128, 128, 9)\n",
            "363 (764, 128, 128, 9)\n",
            "364 (764, 128, 128, 9)\n",
            "365 (764, 128, 128, 9)\n",
            "366 (764, 128, 128, 9)\n",
            "367 (764, 128, 128, 9)\n",
            "368 (764, 128, 128, 9)\n",
            "369 (764, 128, 128, 9)\n",
            "370 (764, 128, 128, 9)\n",
            "371 (764, 128, 128, 9)\n",
            "372 (764, 128, 128, 9)\n",
            "373 (764, 128, 128, 9)\n",
            "374 (764, 128, 128, 9)\n",
            "375 (764, 128, 128, 9)\n",
            "376 (764, 128, 128, 9)\n",
            "377 (764, 128, 128, 9)\n",
            "378 (764, 128, 128, 9)\n",
            "379 (764, 128, 128, 9)\n",
            "380 (764, 128, 128, 9)\n",
            "381 (764, 128, 128, 9)\n",
            "382 (764, 128, 128, 9)\n",
            "383 (764, 128, 128, 9)\n",
            "384 (764, 128, 128, 9)\n",
            "385 (764, 128, 128, 9)\n",
            "386 (764, 128, 128, 9)\n",
            "387 (764, 128, 128, 9)\n",
            "388 (764, 128, 128, 9)\n",
            "389 (764, 128, 128, 9)\n",
            "390 (764, 128, 128, 9)\n",
            "391 (764, 128, 128, 9)\n",
            "392 (764, 128, 128, 9)\n",
            "393 (764, 128, 128, 9)\n",
            "394 (764, 128, 128, 9)\n",
            "395 (764, 128, 128, 9)\n",
            "396 (764, 128, 128, 9)\n",
            "397 (764, 128, 128, 9)\n",
            "398 (764, 128, 128, 9)\n",
            "399 (764, 128, 128, 9)\n",
            "400 (764, 128, 128, 9)\n",
            "401 (764, 128, 128, 9)\n",
            "402 (764, 128, 128, 9)\n",
            "403 (764, 128, 128, 9)\n",
            "404 (764, 128, 128, 9)\n",
            "405 (764, 128, 128, 9)\n",
            "406 (764, 128, 128, 9)\n",
            "407 (764, 128, 128, 9)\n",
            "408 (764, 128, 128, 9)\n",
            "409 (764, 128, 128, 9)\n",
            "410 (764, 128, 128, 9)\n",
            "411 (764, 128, 128, 9)\n",
            "412 (764, 128, 128, 9)\n",
            "413 (764, 128, 128, 9)\n",
            "414 (764, 128, 128, 9)\n",
            "415 (764, 128, 128, 9)\n",
            "416 (764, 128, 128, 9)\n",
            "417 (764, 128, 128, 9)\n",
            "418 (764, 128, 128, 9)\n",
            "419 (764, 128, 128, 9)\n",
            "420 (764, 128, 128, 9)\n",
            "421 (764, 128, 128, 9)\n",
            "422 (764, 128, 128, 9)\n",
            "423 (764, 128, 128, 9)\n",
            "424 (764, 128, 128, 9)\n",
            "425 (764, 128, 128, 9)\n",
            "426 (764, 128, 128, 9)\n",
            "427 (764, 128, 128, 9)\n",
            "428 (764, 128, 128, 9)\n",
            "429 (764, 128, 128, 9)\n",
            "430 (764, 128, 128, 9)\n",
            "431 (764, 128, 128, 9)\n",
            "432 (764, 128, 128, 9)\n",
            "433 (764, 128, 128, 9)\n",
            "434 (764, 128, 128, 9)\n",
            "435 (764, 128, 128, 9)\n",
            "436 (764, 128, 128, 9)\n",
            "437 (764, 128, 128, 9)\n",
            "438 (764, 128, 128, 9)\n",
            "439 (764, 128, 128, 9)\n",
            "440 (764, 128, 128, 9)\n",
            "441 (764, 128, 128, 9)\n",
            "442 (764, 128, 128, 9)\n",
            "443 (764, 128, 128, 9)\n",
            "444 (764, 128, 128, 9)\n",
            "445 (764, 128, 128, 9)\n",
            "446 (764, 128, 128, 9)\n",
            "447 (764, 128, 128, 9)\n",
            "448 (764, 128, 128, 9)\n",
            "449 (764, 128, 128, 9)\n",
            "450 (764, 128, 128, 9)\n",
            "451 (764, 128, 128, 9)\n",
            "452 (764, 128, 128, 9)\n",
            "453 (764, 128, 128, 9)\n",
            "454 (764, 128, 128, 9)\n",
            "455 (764, 128, 128, 9)\n",
            "456 (764, 128, 128, 9)\n",
            "457 (764, 128, 128, 9)\n",
            "458 (764, 128, 128, 9)\n",
            "459 (764, 128, 128, 9)\n",
            "460 (764, 128, 128, 9)\n",
            "461 (764, 128, 128, 9)\n",
            "462 (764, 128, 128, 9)\n",
            "463 (764, 128, 128, 9)\n",
            "464 (764, 128, 128, 9)\n",
            "465 (764, 128, 128, 9)\n",
            "466 (764, 128, 128, 9)\n",
            "467 (764, 128, 128, 9)\n",
            "468 (764, 128, 128, 9)\n",
            "469 (764, 128, 128, 9)\n",
            "470 (764, 128, 128, 9)\n",
            "471 (764, 128, 128, 9)\n",
            "472 (764, 128, 128, 9)\n",
            "473 (764, 128, 128, 9)\n",
            "474 (764, 128, 128, 9)\n",
            "475 (764, 128, 128, 9)\n",
            "476 (764, 128, 128, 9)\n",
            "477 (764, 128, 128, 9)\n",
            "478 (764, 128, 128, 9)\n",
            "479 (764, 128, 128, 9)\n",
            "480 (764, 128, 128, 9)\n",
            "481 (764, 128, 128, 9)\n",
            "482 (764, 128, 128, 9)\n",
            "483 (764, 128, 128, 9)\n",
            "484 (764, 128, 128, 9)\n",
            "485 (764, 128, 128, 9)\n",
            "486 (764, 128, 128, 9)\n",
            "487 (764, 128, 128, 9)\n",
            "488 (764, 128, 128, 9)\n",
            "489 (764, 128, 128, 9)\n",
            "490 (764, 128, 128, 9)\n",
            "491 (764, 128, 128, 9)\n",
            "492 (764, 128, 128, 9)\n",
            "493 (764, 128, 128, 9)\n",
            "494 (764, 128, 128, 9)\n",
            "495 (764, 128, 128, 9)\n",
            "496 (764, 128, 128, 9)\n",
            "497 (764, 128, 128, 9)\n",
            "498 (764, 128, 128, 9)\n",
            "499 (764, 128, 128, 9)\n",
            "500 (764, 128, 128, 9)\n",
            "501 (764, 128, 128, 9)\n",
            "502 (764, 128, 128, 9)\n",
            "503 (764, 128, 128, 9)\n",
            "504 (764, 128, 128, 9)\n",
            "505 (764, 128, 128, 9)\n",
            "506 (764, 128, 128, 9)\n",
            "507 (764, 128, 128, 9)\n",
            "508 (764, 128, 128, 9)\n",
            "509 (764, 128, 128, 9)\n",
            "510 (764, 128, 128, 9)\n",
            "511 (764, 128, 128, 9)\n",
            "512 (764, 128, 128, 9)\n",
            "513 (764, 128, 128, 9)\n",
            "514 (764, 128, 128, 9)\n",
            "515 (764, 128, 128, 9)\n",
            "516 (764, 128, 128, 9)\n",
            "517 (764, 128, 128, 9)\n",
            "518 (764, 128, 128, 9)\n",
            "519 (764, 128, 128, 9)\n",
            "520 (764, 128, 128, 9)\n",
            "521 (764, 128, 128, 9)\n",
            "522 (764, 128, 128, 9)\n",
            "523 (764, 128, 128, 9)\n",
            "524 (764, 128, 128, 9)\n",
            "525 (764, 128, 128, 9)\n",
            "526 (764, 128, 128, 9)\n",
            "527 (764, 128, 128, 9)\n",
            "528 (764, 128, 128, 9)\n",
            "529 (764, 128, 128, 9)\n",
            "530 (764, 128, 128, 9)\n",
            "531 (764, 128, 128, 9)\n",
            "532 (764, 128, 128, 9)\n",
            "533 (764, 128, 128, 9)\n",
            "534 (764, 128, 128, 9)\n",
            "535 (764, 128, 128, 9)\n",
            "536 (764, 128, 128, 9)\n",
            "537 (764, 128, 128, 9)\n",
            "538 (764, 128, 128, 9)\n",
            "539 (764, 128, 128, 9)\n",
            "540 (764, 128, 128, 9)\n",
            "541 (764, 128, 128, 9)\n",
            "542 (764, 128, 128, 9)\n",
            "543 (764, 128, 128, 9)\n",
            "544 (764, 128, 128, 9)\n",
            "545 (764, 128, 128, 9)\n",
            "546 (764, 128, 128, 9)\n",
            "547 (764, 128, 128, 9)\n",
            "548 (764, 128, 128, 9)\n",
            "549 (764, 128, 128, 9)\n",
            "550 (764, 128, 128, 9)\n",
            "551 (764, 128, 128, 9)\n",
            "552 (764, 128, 128, 9)\n",
            "553 (764, 128, 128, 9)\n",
            "554 (764, 128, 128, 9)\n",
            "555 (764, 128, 128, 9)\n",
            "556 (764, 128, 128, 9)\n",
            "557 (764, 128, 128, 9)\n",
            "558 (764, 128, 128, 9)\n",
            "559 (764, 128, 128, 9)\n",
            "560 (764, 128, 128, 9)\n",
            "561 (764, 128, 128, 9)\n",
            "562 (764, 128, 128, 9)\n",
            "563 (764, 128, 128, 9)\n",
            "564 (764, 128, 128, 9)\n",
            "565 (764, 128, 128, 9)\n",
            "566 (764, 128, 128, 9)\n",
            "567 (764, 128, 128, 9)\n",
            "568 (764, 128, 128, 9)\n",
            "569 (764, 128, 128, 9)\n",
            "570 (764, 128, 128, 9)\n",
            "571 (764, 128, 128, 9)\n",
            "572 (764, 128, 128, 9)\n",
            "573 (764, 128, 128, 9)\n",
            "574 (764, 128, 128, 9)\n",
            "575 (764, 128, 128, 9)\n",
            "576 (764, 128, 128, 9)\n",
            "577 (764, 128, 128, 9)\n",
            "578 (764, 128, 128, 9)\n",
            "579 (764, 128, 128, 9)\n",
            "580 (764, 128, 128, 9)\n",
            "581 (764, 128, 128, 9)\n",
            "582 (764, 128, 128, 9)\n",
            "583 (764, 128, 128, 9)\n",
            "584 (764, 128, 128, 9)\n",
            "585 (764, 128, 128, 9)\n",
            "586 (764, 128, 128, 9)\n",
            "587 (764, 128, 128, 9)\n",
            "588 (764, 128, 128, 9)\n",
            "589 (764, 128, 128, 9)\n",
            "590 (764, 128, 128, 9)\n",
            "591 (764, 128, 128, 9)\n",
            "592 (764, 128, 128, 9)\n",
            "593 (764, 128, 128, 9)\n",
            "594 (764, 128, 128, 9)\n",
            "595 (764, 128, 128, 9)\n",
            "596 (764, 128, 128, 9)\n",
            "597 (764, 128, 128, 9)\n",
            "598 (764, 128, 128, 9)\n",
            "599 (764, 128, 128, 9)\n"
          ],
          "name": "stdout"
        }
      ]
    },
    {
      "cell_type": "code",
      "metadata": {
        "colab_type": "code",
        "id": "Lj0RxZSgdSEh",
        "colab": {}
      },
      "source": [
        "np.save(PATH_models+'heatmap_001_all.npy', heatmap)"
      ],
      "execution_count": 0,
      "outputs": []
    },
    {
      "cell_type": "code",
      "metadata": {
        "colab_type": "code",
        "outputId": "2a51ffdb-b268-45db-d61e-14105c147e22",
        "id": "X-dQIYeidSEl",
        "colab": {
          "base_uri": "https://localhost:8080/",
          "height": 460
        }
      },
      "source": [
        "\n",
        "\n",
        "slide = open_slide(slide_path)\n",
        "tumor_mask = open_slide(tumor_mask_path)\n",
        "\n",
        "slide_image = read_slide(slide, \n",
        "                         x=0, \n",
        "                         y=0, \n",
        "                         level=7, \n",
        "                         width=slide.level_dimensions[7][0], \n",
        "                         height=slide.level_dimensions[7][1])\n",
        "mask_image = read_slide(tumor_mask, \n",
        "                        x=0, \n",
        "                        y=0, \n",
        "                        level=7, \n",
        "                        width=slide.level_dimensions[7][0], \n",
        "                        height=slide.level_dimensions[7][1])\n",
        "\n",
        "# Note: the program provided by the dataset authors generates a mask with R,G,B channels.\n",
        "# The mask info we need is in the first channel only.\n",
        "# If you skip this step, the mask will be displayed as all black.\n",
        "mask_image = mask_image[:,:, 0]\n",
        "\n",
        "plt.figure(figsize=(5,5), dpi=100)\n",
        "plt.imshow(slide_image)\n",
        "plt.imshow(mask_image, cmap='jet', alpha=0.5) # Red regions contains cancer."
      ],
      "execution_count": 0,
      "outputs": [
        {
          "output_type": "execute_result",
          "data": {
            "text/plain": [
              "<matplotlib.image.AxesImage at 0x7f1e7d954ba8>"
            ]
          },
          "metadata": {
            "tags": []
          },
          "execution_count": 62
        },
        {
          "output_type": "display_data",
          "data": {
            "image/png": "[encoded data removed]",
            "text/plain": [
              "<Figure size 500x500 with 1 Axes>"
            ]
          },
          "metadata": {
            "tags": []
          }
        }
      ]
    },
    {
      "cell_type": "code",
      "metadata": {
        "colab_type": "code",
        "outputId": "5f1231ac-f12b-4274-e2b4-96011c3d208b",
        "id": "R6bActvCdSEo",
        "colab": {
          "base_uri": "https://localhost:8080/",
          "height": 460
        }
      },
      "source": [
        "slide_image = read_slide(slide, \n",
        "                         x=0, \n",
        "                         y=0, \n",
        "                         level=7, \n",
        "                         width=slide.level_dimensions[7][0], \n",
        "                         height=slide.level_dimensions[7][1])\n",
        "\n",
        "\n",
        "plt.figure(figsize=(5,5), dpi=100)\n",
        "plt.imshow(slide_image)\n",
        "plt.imshow(heatmap, cmap='jet', alpha=0.5) # Red regions contains cancer."
      ],
      "execution_count": 0,
      "outputs": [
        {
          "output_type": "execute_result",
          "data": {
            "text/plain": [
              "<matplotlib.image.AxesImage at 0x7f1ee99fd630>"
            ]
          },
          "metadata": {
            "tags": []
          },
          "execution_count": 64
        },
        {
          "output_type": "display_data",
          "data": {
            "image/png": "[encoded data removed]",
            "text/plain": [
              "<Figure size 500x500 with 1 Axes>"
            ]
          },
          "metadata": {
            "tags": []
          }
        }
      ]
    },
    {
      "cell_type": "code",
      "metadata": {
        "colab_type": "code",
        "id": "fzTBD7GGdSEq",
        "colab": {}
      },
      "source": [
        "def recall(mask_image, heatmap):\n",
        "  TP = 0\n",
        "  FN = 0\n",
        "  FP = 0\n",
        "  TN = 0\n",
        "\n",
        "\n",
        "  for i in range(heatmap.shape[0]):\n",
        "    for j in range(heatmap.shape[1]):\n",
        "      if mask_image[i][j] >= 0.5 and heatmap[i][j] >= 0.5:\n",
        "        TP += 1\n",
        "      elif mask_image[i][j] >= 0.5 and heatmap[i][j] < 0.5:\n",
        "        FN += 1\n",
        "      elif mask_image[i][j] < 0.5 and heatmap[i][j] >= 0.5:\n",
        "        FP += 1\n",
        "      elif mask_image[i][j] < 0.5 and heatmap[i][j] < 0.5:\n",
        "        TN += 1\n",
        "\n",
        "  print('Recall: ', TP * 100.0 / (TP+FN))"
      ],
      "execution_count": 0,
      "outputs": []
    },
    {
      "cell_type": "code",
      "metadata": {
        "id": "ocDcf7liirqQ",
        "colab_type": "code",
        "outputId": "760192d1-8bb1-4b74-d9ab-bf5490a57ce1",
        "colab": {
          "base_uri": "https://localhost:8080/",
          "height": 34
        }
      },
      "source": [
        "recall(mask_image, heatmap)"
      ],
      "execution_count": 0,
      "outputs": [
        {
          "output_type": "stream",
          "text": [
            "Recall:  98.90938742228111\n"
          ],
          "name": "stdout"
        }
      ]
    },
    {
      "cell_type": "code",
      "metadata": {
        "id": "y5uhEyrwit1f",
        "colab_type": "code",
        "colab": {}
      },
      "source": [
        ""
      ],
      "execution_count": 0,
      "outputs": []
    }
  ]
}